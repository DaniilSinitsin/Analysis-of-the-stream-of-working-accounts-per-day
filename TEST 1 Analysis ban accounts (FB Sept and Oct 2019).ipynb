{
 "cells": [
  {
   "cell_type": "code",
   "execution_count": 1,
   "metadata": {
    "scrolled": true
   },
   "outputs": [],
   "source": [
    "#Имопортирую библиотеки\n",
    "import numpy as np\n",
    "import pandas as pd\n",
    "import matplotlib.pyplot as plt\n",
    "\n",
    "pd.options.display.max_rows = 50"
   ]
  },
  {
   "cell_type": "code",
   "execution_count": 2,
   "metadata": {},
   "outputs": [],
   "source": [
    "#Импортирую файл CSV\n",
    "FB = pd.read_csv('2019Jan-2020Feb.csv', sep = ';')"
   ]
  },
  {
   "cell_type": "code",
   "execution_count": 3,
   "metadata": {},
   "outputs": [
    {
     "data": {
      "text/plain": [
       "Date                                                          15/08/2019\n",
       "Client Facebook Business               Victorsirfok707 [400481263815666]\n",
       "Client                                    Victorsirf3 [2809608942442524]\n",
       "Facebook Transaction External Id                                     NaN\n",
       "Facebook Transaction Tracking Id                                     NaN\n",
       "Facebook Transaction Card Number                                     NaN\n",
       "Facebook Transaction Card Expire                                     NaN\n",
       "Facebook Transaction Status                                          NaN\n",
       "Facebook Transaction Payment Option                                  NaN\n",
       "Facebook Transaction Charge Type                                     NaN\n",
       "Traffic Cost                                                     3847.13\n",
       "Transaction Amount                                               2916.15\n",
       "App Transaction Amount                                           2916.15\n",
       "Duty                                                                   0\n",
       "Traffic Cost Diff                                                 930.98\n",
       "Name: 0, dtype: object"
      ]
     },
     "execution_count": 3,
     "metadata": {},
     "output_type": "execute_result"
    }
   ],
   "source": [
    "#Просматриваю 1-ю и 2-ю строку для понимания, где какой ряд и характера данных\n",
    "FB.iloc[0,:]"
   ]
  },
  {
   "cell_type": "code",
   "execution_count": 4,
   "metadata": {
    "scrolled": true
   },
   "outputs": [
    {
     "data": {
      "text/html": [
       "<div>\n",
       "<style scoped>\n",
       "    .dataframe tbody tr th:only-of-type {\n",
       "        vertical-align: middle;\n",
       "    }\n",
       "\n",
       "    .dataframe tbody tr th {\n",
       "        vertical-align: top;\n",
       "    }\n",
       "\n",
       "    .dataframe thead th {\n",
       "        text-align: right;\n",
       "    }\n",
       "</style>\n",
       "<table border=\"1\" class=\"dataframe\">\n",
       "  <thead>\n",
       "    <tr style=\"text-align: right;\">\n",
       "      <th></th>\n",
       "      <th>Date</th>\n",
       "      <th>Client</th>\n",
       "    </tr>\n",
       "  </thead>\n",
       "  <tbody>\n",
       "    <tr>\n",
       "      <td>0</td>\n",
       "      <td>15/08/2019</td>\n",
       "      <td>Victorsirf3 [2809608942442524]</td>\n",
       "    </tr>\n",
       "    <tr>\n",
       "      <td>1</td>\n",
       "      <td>01/08/2019</td>\n",
       "      <td>Familinimenov2 [583488745513428]</td>\n",
       "    </tr>\n",
       "    <tr>\n",
       "      <td>2</td>\n",
       "      <td>02/08/2019</td>\n",
       "      <td>Familinimenov2 [583488745513428]</td>\n",
       "    </tr>\n",
       "    <tr>\n",
       "      <td>3</td>\n",
       "      <td>03/08/2019</td>\n",
       "      <td>Familinimenov2 [583488745513428]</td>\n",
       "    </tr>\n",
       "    <tr>\n",
       "      <td>4</td>\n",
       "      <td>04/08/2019</td>\n",
       "      <td>Belovasyamir3 [718435595278213]</td>\n",
       "    </tr>\n",
       "    <tr>\n",
       "      <td>...</td>\n",
       "      <td>...</td>\n",
       "      <td>...</td>\n",
       "    </tr>\n",
       "    <tr>\n",
       "      <td>69279</td>\n",
       "      <td>01/02/2020</td>\n",
       "      <td>ie 5 [1311323605731541]</td>\n",
       "    </tr>\n",
       "    <tr>\n",
       "      <td>69280</td>\n",
       "      <td>01/02/2020</td>\n",
       "      <td>ie 3 [189370559132409]</td>\n",
       "    </tr>\n",
       "    <tr>\n",
       "      <td>69281</td>\n",
       "      <td>01/02/2020</td>\n",
       "      <td>ie 2 [1986411124837826]</td>\n",
       "    </tr>\n",
       "    <tr>\n",
       "      <td>69282</td>\n",
       "      <td>01/02/2020</td>\n",
       "      <td>ie 1 [580515929147376]</td>\n",
       "    </tr>\n",
       "    <tr>\n",
       "      <td>69283</td>\n",
       "      <td>01/02/2020</td>\n",
       "      <td>rr 1 [801437533640174]</td>\n",
       "    </tr>\n",
       "  </tbody>\n",
       "</table>\n",
       "<p>69284 rows × 2 columns</p>\n",
       "</div>"
      ],
      "text/plain": [
       "             Date                            Client\n",
       "0      15/08/2019    Victorsirf3 [2809608942442524]\n",
       "1      01/08/2019  Familinimenov2 [583488745513428]\n",
       "2      02/08/2019  Familinimenov2 [583488745513428]\n",
       "3      03/08/2019  Familinimenov2 [583488745513428]\n",
       "4      04/08/2019   Belovasyamir3 [718435595278213]\n",
       "...           ...                               ...\n",
       "69279  01/02/2020           ie 5 [1311323605731541]\n",
       "69280  01/02/2020            ie 3 [189370559132409]\n",
       "69281  01/02/2020           ie 2 [1986411124837826]\n",
       "69282  01/02/2020            ie 1 [580515929147376]\n",
       "69283  01/02/2020            rr 1 [801437533640174]\n",
       "\n",
       "[69284 rows x 2 columns]"
      ]
     },
     "execution_count": 4,
     "metadata": {},
     "output_type": "execute_result"
    }
   ],
   "source": [
    "#Создаю переменные пандас (ряд с днями и клиентами, и 2 ряда)\n",
    "#И просматриваю итоговую переменную\n",
    "Days = FB.iloc[:,0]\n",
    "Clients = FB.iloc[:,2]\n",
    "DandC= FB.iloc[:,[0,2]]\n",
    "DandC\n",
    "\n"
   ]
  },
  {
   "cell_type": "code",
   "execution_count": 5,
   "metadata": {},
   "outputs": [
    {
     "name": "stdout",
     "output_type": "stream",
     "text": [
      "7378\n"
     ]
    }
   ],
   "source": [
    "#Считаю уникальные номера и задаю их в переменную n\n",
    "n = Clients.nunique()\n",
    "print(n)"
   ]
  },
  {
   "cell_type": "code",
   "execution_count": 6,
   "metadata": {},
   "outputs": [
    {
     "name": "stdout",
     "output_type": "stream",
     "text": [
      "               0                               Client        Date\n",
      "0     29/02/2020  Germany Project 2 [133272764662258]  29/02/2020\n",
      "1     29/02/2020    Germany Project [629696437861933]  29/02/2020\n",
      "2     29/02/2020          Rubanok 4 [509135616704951]  29/02/2020\n",
      "3     29/02/2020          Rubanok 2 [805388756612177]  29/02/2020\n",
      "4     29/02/2020         Shampusik5 [473957603516299]  29/02/2020\n",
      "...          ...                                  ...         ...\n",
      "8608  01/02/2020              ie 5 [1311323605731541]  01/02/2020\n",
      "8609  01/02/2020               ie 3 [189370559132409]  01/02/2020\n",
      "8610  01/02/2020              ie 2 [1986411124837826]  01/02/2020\n",
      "8611  01/02/2020               ie 1 [580515929147376]  01/02/2020\n",
      "8612  01/02/2020               rr 1 [801437533640174]  01/02/2020\n",
      "\n",
      "[8613 rows x 3 columns]\n",
      "                                   Client        Date\n",
      "0     Germany Project 2 [133272764662258]  29/02/2020\n",
      "1       Germany Project [629696437861933]  29/02/2020\n",
      "2             Rubanok 4 [509135616704951]  29/02/2020\n",
      "3             Rubanok 2 [805388756612177]  29/02/2020\n",
      "4            Shampusik5 [473957603516299]  29/02/2020\n",
      "...                                   ...         ...\n",
      "8608              ie 5 [1311323605731541]  01/02/2020\n",
      "8609               ie 3 [189370559132409]  01/02/2020\n",
      "8610              ie 2 [1986411124837826]  01/02/2020\n",
      "8611               ie 1 [580515929147376]  01/02/2020\n",
      "8612               rr 1 [801437533640174]  01/02/2020\n",
      "\n",
      "[8613 rows x 2 columns]\n",
      "1956\n"
     ]
    }
   ],
   "source": [
    "#Если нужно фильтровать по дате Фильтруем данные для нашей выборки по коду ниже\n",
    "#DandC[DandC.Date == '01/12/2019'][['Date','Client']] фильтр по 1 параметру даты\n",
    "#Ниже код для фильтрации данных по параметру месяц и год\n",
    "spisok = []\n",
    "spisok1 = []\n",
    "for i in range(DandC.shape[0]):\n",
    "    a = DandC.iloc[i,0]\n",
    "    b = a[a.find(\"/\", 1, len(a))+1:len(a)]\n",
    "    if b == '02/2020':\n",
    "        spisok.append(DandC.iloc[i,0])\n",
    "        spisok1.append(DandC.iloc[i,1])\n",
    "December = pd.DataFrame(spisok)\n",
    "December['Client'] = spisok1\n",
    "December['Date'] = spisok\n",
    "print(December)\n",
    "DandC=December.iloc[:,1:]\n",
    "print(DandC)\n",
    "#Считаю новые уникальные номера и задаю их в переменную n\n",
    "n = DandC['Client'].nunique()\n",
    "print(n)"
   ]
  },
  {
   "cell_type": "code",
   "execution_count": 7,
   "metadata": {
    "scrolled": true
   },
   "outputs": [
    {
     "name": "stdout",
     "output_type": "stream",
     "text": [
      "29\n",
      "Client\n",
      "#6WA Com 2 [265661070715459]         3\n",
      "#6WA Com 3 [243286509558012]        21\n",
      "#6WA Com 48 [1084344451902283]       3\n",
      "01 [646784415860695]                 3\n",
      "1 [552240215502034]                 10\n",
      "                                    ..\n",
      "Славик Потап 2 [676589456213576]     7\n",
      "Славик Потап 3 [865541067217232]     6\n",
      "Славик Потап 4 [491640184832326]     6\n",
      "Славик Потап 5 [623211251844264]     7\n",
      "с1 [573841336501467]                 1\n",
      "Name: Date, Length: 1956, dtype: int64\n",
      "<class 'pandas.core.series.Series'>\n"
     ]
    }
   ],
   "source": [
    "#Формирую таблицу с длиной жизни каждого уникального аккаунта исходя из кол-ва повторений\n",
    "#И считаем макс длину жизни 1 аккаунта и задаем их в переменную \"D\"\n",
    "\n",
    "Stata = DandC.groupby('Client')['Date'].nunique()\n",
    "print(max(Stata))\n",
    "D = max(Stata)\n",
    "print(Stata)\n",
    "print(type(Stata))"
   ]
  },
  {
   "cell_type": "code",
   "execution_count": 8,
   "metadata": {
    "scrolled": true
   },
   "outputs": [
    {
     "data": {
      "image/png": "[encoded data removed]",
      "text/plain": [
       "<Figure size 432x288 with 1 Axes>"
      ]
     },
     "metadata": {
      "needs_background": "light"
     },
     "output_type": "display_data"
    }
   ],
   "source": [
    "#Формирование статистики банов по дням\n",
    "plt.hist(Stata, bins = D - 1)\n",
    "plt.title('Ban statistic')\n",
    "# Выводим график\n",
    "plt.show()"
   ]
  },
  {
   "cell_type": "code",
   "execution_count": 9,
   "metadata": {},
   "outputs": [
    {
     "name": "stdout",
     "output_type": "stream",
     "text": [
      "29\n",
      "                                  Date  Number\n",
      "Client                                        \n",
      "#6WA Com 2 [265661070715459]         3       0\n",
      "#6WA Com 3 [243286509558012]        21       1\n",
      "#6WA Com 48 [1084344451902283]       3       2\n",
      "01 [646784415860695]                 3       3\n",
      "1 [552240215502034]                 10       4\n",
      "...                                ...     ...\n",
      "Славик Потап 2 [676589456213576]     7    1951\n",
      "Славик Потап 3 [865541067217232]     6    1952\n",
      "Славик Потап 4 [491640184832326]     6    1953\n",
      "Славик Потап 5 [623211251844264]     7    1954\n",
      "с1 [573841336501467]                 1    1955\n",
      "\n",
      "[1956 rows x 2 columns]\n"
     ]
    }
   ],
   "source": [
    "#Для построения графика с кривой распределения по остатку за период 61 день:\n",
    "#Проверяю максимальное количество дней жизни аккаунта\n",
    "#Создаю лист с переменной \"N\" у которой будет 1340 натур номеров от 0 до 1399\n",
    "pdStata = pd.DataFrame(Stata)\n",
    "print(pdStata.iloc[:,0].max())\n",
    "N = [] \n",
    "for i in range(n):\n",
    "    N.append(i)\n",
    "#Добавляю лист \"N\" в \"pdStata\" назвав колонкой Number и показываю таблицу\n",
    "pdStata['Number'] = N\n",
    "print(pdStata)\n"
   ]
  },
  {
   "cell_type": "code",
   "execution_count": 10,
   "metadata": {},
   "outputs": [
    {
     "name": "stdout",
     "output_type": "stream",
     "text": [
      "[1956, 1499, 1068, 780, 603, 473, 388, 316, 258, 214, 180, 152, 127, 107, 94, 79, 63, 55, 47, 34, 28, 24, 21, 17, 12, 7, 6, 4, 1, 0]\n",
      "[0, 1, 2, 3, 4, 5, 6, 7, 8, 9, 10, 11, 12, 13, 14, 15, 16, 17, 18, 19, 20, 21, 22, 23, 24, 25, 26, 27, 28, 29]\n"
     ]
    },
    {
     "data": {
      "image/png": "[encoded data removed]",
      "text/plain": [
       "<Figure size 432x288 with 1 Axes>"
      ]
     },
     "metadata": {
      "needs_background": "light"
     },
     "output_type": "display_data"
    }
   ],
   "source": [
    "#Запускаем циклы - 61 цикл с набором по 1340 циклов с проверкой каждой строки, \n",
    "#После каждой проходки цикла i-n, записываем \"а-n\" с количеством аккаунтов,\n",
    "#Каждое следующее \"а\" записываеться путем вычитания найденнного из предыдущего значения\n",
    "#Таким образом формируется убывающий ряд, каждое значение \"а\" в котором сводится в лист \"b\"\n",
    "#Так же Создаю список \"nb\" из 62 номеров с помощью цикла\n",
    "a = n\n",
    "b = []\n",
    "nb = []\n",
    "for i in range(0, D+1):\n",
    "    nb.append(i)\n",
    "    for j in range(n):\n",
    "        if pdStata.iloc[j,0] == i:\n",
    "            a-=1\n",
    "    b.append(a)     \n",
    "print(b)\n",
    "print(nb)\n",
    "\n",
    "#Создаю график с остатком живых аккаунтов в интервале 61 день\n",
    "plt.scatter(x = nb, y = b)\n",
    "plt.title('Balance numbers')\n",
    "plt.show()"
   ]
  },
  {
   "cell_type": "code",
   "execution_count": 11,
   "metadata": {},
   "outputs": [
    {
     "data": {
      "image/png": "[encoded data removed]",
      "text/plain": [
       "<Figure size 432x288 with 1 Axes>"
      ]
     },
     "metadata": {
      "needs_background": "light"
     },
     "output_type": "display_data"
    }
   ],
   "source": [
    "#Плотность распределения аккаунтов по количеству жизни \n",
    "a1 = []\n",
    "a2 = []\n",
    "for i in range(n):\n",
    "    a1.append(pdStata.iloc[i, 0])\n",
    "    a2.append(pdStata.iloc[i, 1])\n",
    "plt.scatter(x = a1, y = a2)\n",
    "plt.title('Distribution density')\n",
    "plt.show()"
   ]
  },
  {
   "cell_type": "code",
   "execution_count": 12,
   "metadata": {},
   "outputs": [
    {
     "name": "stdout",
     "output_type": "stream",
     "text": [
      "[1956, 1956, 1956, 1956, 1956, 1956, 1956, 1956, 1956, 1956, 1956, 1956, 1956, 1956, 1956, 1956, 1956, 1956, 1956, 1956, 1956, 1956, 1956, 1956, 1956, 1956, 1956, 1956, 1956, 1956]\n",
      "[1956 1499 1068  780  603  473  388  316  258  214  180  152  127  107\n",
      "   94   79   63   55   47   34   28   24   21   17   12    7    6    4\n",
      "    1    0]\n",
      "[1.    0.766 0.546 0.399 0.308 0.242 0.198 0.162 0.132 0.109 0.092 0.078\n",
      " 0.065 0.055 0.048 0.04  0.032 0.028 0.024 0.017 0.014 0.012 0.011 0.009\n",
      " 0.006 0.004 0.003 0.002 0.001 0.   ]\n",
      "<class 'numpy.ndarray'>\n"
     ]
    }
   ],
   "source": [
    "#Вычисление процента бана и формирование графика\n",
    "#Создаем массивы данных процентного распределения в листе np_c и округляем их до 3-х знаков\n",
    "tn = []\n",
    "for i in range (D+1):\n",
    "    tn.append(n)\n",
    "print(tn)\n",
    "np_tn = np.array(tn)\n",
    "np_b = np.array(b)\n",
    "print(np_b)\n",
    "np_c = np_b / np_tn\n",
    "np_c = np.around(np_c, decimals = 3)\n",
    "\n",
    "print(np_c)\n",
    "print(type(np_c))"
   ]
  },
  {
   "cell_type": "code",
   "execution_count": 13,
   "metadata": {},
   "outputs": [
    {
     "data": {
      "image/png": "[encoded data removed]",
      "text/plain": [
       "<Figure size 432x288 with 1 Axes>"
      ]
     },
     "metadata": {
      "needs_background": "light"
     },
     "output_type": "display_data"
    }
   ],
   "source": [
    "#Создаем график с процентным распределением зная \"nb\" - список по дням и \"np_c\" - вероятности по дням\n",
    "plt.scatter(x = nb, y = np_c, alpha = 0.8)\n",
    "plt.title('Balance percents')\n",
    "plt.grid(True)\n",
    "plt.yticks([0.0,0.1,0.2,0.3,0.4,0.5,0.6,0.7,0.8,0.9,1.0], ['0%','10%','20%','30%','40%','50%','60%','70%','80%','90%','100%'])\n",
    "plt.xticks([0,5,10,15,20,25,30,35,40,45,50,55,60,65,70],['0','5','10','15','20','25','30','35','40','45','50','55','60','65','70'], rotation = 55)\n",
    "plt.show()\n",
    "\n"
   ]
  },
  {
   "cell_type": "code",
   "execution_count": 950,
   "metadata": {},
   "outputs": [
    {
     "data": {
      "text/plain": [
       "0.12903225806451613"
      ]
     },
     "execution_count": 950,
     "metadata": {},
     "output_type": "execute_result"
    }
   ],
   "source": [
    "np.mean(np_c > 0.5)"
   ]
  },
  {
   "cell_type": "code",
   "execution_count": null,
   "metadata": {},
   "outputs": [],
   "source": []
  }
 ],
 "metadata": {
  "kernelspec": {
   "display_name": "Python 3",
   "language": "python",
   "name": "python3"
  },
  "language_info": {
   "codemirror_mode": {
    "name": "ipython",
    "version": 3
   },
   "file_extension": ".py",
   "mimetype": "text/x-python",
   "name": "python",
   "nbconvert_exporter": "python",
   "pygments_lexer": "ipython3",
   "version": "3.7.4"
  }
 },
 "nbformat": 4,
 "nbformat_minor": 2
}
